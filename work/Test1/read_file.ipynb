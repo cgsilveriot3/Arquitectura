{
 "cells": [
  {
   "cell_type": "code",
   "execution_count": 1,
   "id": "289b871e-8718-427e-9f21-057912ce5253",
   "metadata": {
    "scrolled": true
   },
   "outputs": [],
   "source": [
    "from pyspark.sql import SparkSession\n",
    "spark = SparkSession.builder \\\n",
    "    .appName(\"LeerCSV\") \\\n",
    "    .getOrCreate()"
   ]
  },
  {
   "cell_type": "code",
   "execution_count": 2,
   "id": "e349b0fd-ed3d-401c-b8d9-56a4e47ee66a",
   "metadata": {},
   "outputs": [],
   "source": [
    "# Ruta al archivo CSV\n",
    "path_csv = \"/home/jovyan/work/data_test/dummy.csv\"\n",
    "#\"/home/jovyan/work/data_test/dummy.csv\"\n",
    "#file:/home/jovyan/work/Test1/data_test/dummy.csv.\n",
    "#/c/Users/cgsilveriot/Engineer/work/data_test\n",
    "\n",
    "# Leer el archivo CSV en un DataFrame\n",
    "df = spark.read.csv(path_csv, header=True, inferSchema=True)"
   ]
  },
  {
   "cell_type": "code",
   "execution_count": 3,
   "id": "77e18f3a-2194-4112-9be6-b861d1eefaf3",
   "metadata": {},
   "outputs": [
    {
     "name": "stdout",
     "output_type": "stream",
     "text": [
      "+------+---+----+----------+-----+\n",
      "|  name|age|team|birdthdate|   cp|\n",
      "+------+---+----+----------+-----+\n",
      "|carlos| 32| AMI|1991-12-22|62134|\n",
      "|  Test| 18| AMI|1999-01-01|62132|\n",
      "+------+---+----+----------+-----+\n",
      "\n"
     ]
    }
   ],
   "source": [
    "df.show()"
   ]
  }
 ],
 "metadata": {
  "kernelspec": {
   "display_name": "Python 3 (ipykernel)",
   "language": "python",
   "name": "python3"
  },
  "language_info": {
   "codemirror_mode": {
    "name": "ipython",
    "version": 3
   },
   "file_extension": ".py",
   "mimetype": "text/x-python",
   "name": "python",
   "nbconvert_exporter": "python",
   "pygments_lexer": "ipython3",
   "version": "3.11.6"
  }
 },
 "nbformat": 4,
 "nbformat_minor": 5
}
